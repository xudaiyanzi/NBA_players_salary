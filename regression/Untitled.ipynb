{
 "cells": [
  {
   "cell_type": "code",
   "execution_count": 1,
   "metadata": {},
   "outputs": [],
   "source": [
    "# import Pandas\n",
    "import pandas as pd\n",
    "\n",
    "# import os\n",
    "import os\n",
    "\n",
    "# import numpy\n",
    "import numpy as np\n",
    "\n",
    "# import pyplot\n",
    "import matplotlib.pyplot as plt"
   ]
  },
  {
   "cell_type": "code",
   "execution_count": 5,
   "metadata": {},
   "outputs": [
    {
     "data": {
      "text/html": [
       "<div>\n",
       "<style scoped>\n",
       "    .dataframe tbody tr th:only-of-type {\n",
       "        vertical-align: middle;\n",
       "    }\n",
       "\n",
       "    .dataframe tbody tr th {\n",
       "        vertical-align: top;\n",
       "    }\n",
       "\n",
       "    .dataframe thead th {\n",
       "        text-align: right;\n",
       "    }\n",
       "</style>\n",
       "<table border=\"1\" class=\"dataframe\">\n",
       "  <thead>\n",
       "    <tr style=\"text-align: right;\">\n",
       "      <th></th>\n",
       "      <th>Year</th>\n",
       "      <th>Name</th>\n",
       "      <th>Age</th>\n",
       "      <th>FG%</th>\n",
       "      <th>FT%</th>\n",
       "      <th>PTS</th>\n",
       "      <th>AST</th>\n",
       "      <th>STL</th>\n",
       "      <th>BLK</th>\n",
       "      <th>TOV</th>\n",
       "      <th>...</th>\n",
       "      <th>player_height</th>\n",
       "      <th>player_weight</th>\n",
       "      <th>Salary Cap</th>\n",
       "      <th>Injury_DTD</th>\n",
       "      <th>Injury_DNP</th>\n",
       "      <th>Injury_Out_Indef</th>\n",
       "      <th>Injury_Out_Season</th>\n",
       "      <th>Injury_Returned</th>\n",
       "      <th>Injury_Other</th>\n",
       "      <th>Salary%</th>\n",
       "    </tr>\n",
       "  </thead>\n",
       "  <tbody>\n",
       "    <tr>\n",
       "      <th>0</th>\n",
       "      <td>2010</td>\n",
       "      <td>Aaron Brooks</td>\n",
       "      <td>25.0</td>\n",
       "      <td>0.432000</td>\n",
       "      <td>0.8220</td>\n",
       "      <td>1604.000000</td>\n",
       "      <td>434.000000</td>\n",
       "      <td>69.0</td>\n",
       "      <td>14.000000</td>\n",
       "      <td>232.0</td>\n",
       "      <td>...</td>\n",
       "      <td>182.88</td>\n",
       "      <td>73.028312</td>\n",
       "      <td>57700000</td>\n",
       "      <td>0.0</td>\n",
       "      <td>0.0</td>\n",
       "      <td>0.0</td>\n",
       "      <td>0.0</td>\n",
       "      <td>0.0</td>\n",
       "      <td>0.0</td>\n",
       "      <td>3.495133</td>\n",
       "    </tr>\n",
       "    <tr>\n",
       "      <th>1</th>\n",
       "      <td>2010</td>\n",
       "      <td>Aaron Gray</td>\n",
       "      <td>25.0</td>\n",
       "      <td>0.483333</td>\n",
       "      <td>0.6190</td>\n",
       "      <td>69.333333</td>\n",
       "      <td>14.666667</td>\n",
       "      <td>6.0</td>\n",
       "      <td>7.333333</td>\n",
       "      <td>12.0</td>\n",
       "      <td>...</td>\n",
       "      <td>213.36</td>\n",
       "      <td>122.469840</td>\n",
       "      <td>57700000</td>\n",
       "      <td>0.0</td>\n",
       "      <td>0.0</td>\n",
       "      <td>0.0</td>\n",
       "      <td>0.0</td>\n",
       "      <td>0.0</td>\n",
       "      <td>0.0</td>\n",
       "      <td>1.783085</td>\n",
       "    </tr>\n",
       "    <tr>\n",
       "      <th>2</th>\n",
       "      <td>2010</td>\n",
       "      <td>Acie Law</td>\n",
       "      <td>25.0</td>\n",
       "      <td>0.472500</td>\n",
       "      <td>0.7935</td>\n",
       "      <td>56.500000</td>\n",
       "      <td>13.000000</td>\n",
       "      <td>5.5</td>\n",
       "      <td>0.500000</td>\n",
       "      <td>8.5</td>\n",
       "      <td>...</td>\n",
       "      <td>190.50</td>\n",
       "      <td>91.625584</td>\n",
       "      <td>57700000</td>\n",
       "      <td>0.0</td>\n",
       "      <td>0.0</td>\n",
       "      <td>0.0</td>\n",
       "      <td>0.0</td>\n",
       "      <td>0.0</td>\n",
       "      <td>0.0</td>\n",
       "      <td>1.097492</td>\n",
       "    </tr>\n",
       "    <tr>\n",
       "      <th>3</th>\n",
       "      <td>2010</td>\n",
       "      <td>Al Harrington</td>\n",
       "      <td>29.0</td>\n",
       "      <td>0.435000</td>\n",
       "      <td>0.7570</td>\n",
       "      <td>1276.000000</td>\n",
       "      <td>110.000000</td>\n",
       "      <td>62.0</td>\n",
       "      <td>26.000000</td>\n",
       "      <td>132.0</td>\n",
       "      <td>...</td>\n",
       "      <td>205.74</td>\n",
       "      <td>113.398000</td>\n",
       "      <td>57700000</td>\n",
       "      <td>0.0</td>\n",
       "      <td>0.0</td>\n",
       "      <td>0.0</td>\n",
       "      <td>0.0</td>\n",
       "      <td>0.0</td>\n",
       "      <td>0.0</td>\n",
       "      <td>9.991334</td>\n",
       "    </tr>\n",
       "    <tr>\n",
       "      <th>4</th>\n",
       "      <td>2010</td>\n",
       "      <td>Al Horford</td>\n",
       "      <td>23.0</td>\n",
       "      <td>0.551000</td>\n",
       "      <td>0.7890</td>\n",
       "      <td>1148.000000</td>\n",
       "      <td>189.000000</td>\n",
       "      <td>59.0</td>\n",
       "      <td>91.000000</td>\n",
       "      <td>122.0</td>\n",
       "      <td>...</td>\n",
       "      <td>208.28</td>\n",
       "      <td>111.130040</td>\n",
       "      <td>57700000</td>\n",
       "      <td>0.0</td>\n",
       "      <td>0.0</td>\n",
       "      <td>0.0</td>\n",
       "      <td>0.0</td>\n",
       "      <td>0.0</td>\n",
       "      <td>0.0</td>\n",
       "      <td>9.436494</td>\n",
       "    </tr>\n",
       "  </tbody>\n",
       "</table>\n",
       "<p>5 rows × 21 columns</p>\n",
       "</div>"
      ],
      "text/plain": [
       "   Year           Name   Age       FG%     FT%          PTS         AST   STL  \\\n",
       "0  2010   Aaron Brooks  25.0  0.432000  0.8220  1604.000000  434.000000  69.0   \n",
       "1  2010     Aaron Gray  25.0  0.483333  0.6190    69.333333   14.666667   6.0   \n",
       "2  2010       Acie Law  25.0  0.472500  0.7935    56.500000   13.000000   5.5   \n",
       "3  2010  Al Harrington  29.0  0.435000  0.7570  1276.000000  110.000000  62.0   \n",
       "4  2010     Al Horford  23.0  0.551000  0.7890  1148.000000  189.000000  59.0   \n",
       "\n",
       "         BLK    TOV    ...     player_height  player_weight  Salary Cap  \\\n",
       "0  14.000000  232.0    ...            182.88      73.028312    57700000   \n",
       "1   7.333333   12.0    ...            213.36     122.469840    57700000   \n",
       "2   0.500000    8.5    ...            190.50      91.625584    57700000   \n",
       "3  26.000000  132.0    ...            205.74     113.398000    57700000   \n",
       "4  91.000000  122.0    ...            208.28     111.130040    57700000   \n",
       "\n",
       "   Injury_DTD  Injury_DNP  Injury_Out_Indef  Injury_Out_Season  \\\n",
       "0         0.0         0.0               0.0                0.0   \n",
       "1         0.0         0.0               0.0                0.0   \n",
       "2         0.0         0.0               0.0                0.0   \n",
       "3         0.0         0.0               0.0                0.0   \n",
       "4         0.0         0.0               0.0                0.0   \n",
       "\n",
       "   Injury_Returned  Injury_Other   Salary%  \n",
       "0              0.0           0.0  3.495133  \n",
       "1              0.0           0.0  1.783085  \n",
       "2              0.0           0.0  1.097492  \n",
       "3              0.0           0.0  9.991334  \n",
       "4              0.0           0.0  9.436494  \n",
       "\n",
       "[5 rows x 21 columns]"
      ]
     },
     "execution_count": 5,
     "metadata": {},
     "output_type": "execute_result"
    }
   ],
   "source": [
    "\n",
    "final_df = pd.read_csv(os.path.join(\"../stats/final_combine_player_data.csv\"))\n",
    "final_df.head()"
   ]
  },
  {
   "cell_type": "code",
   "execution_count": 7,
   "metadata": {},
   "outputs": [
    {
     "data": {
      "text/plain": [
       "[]"
      ]
     },
     "execution_count": 7,
     "metadata": {},
     "output_type": "execute_result"
    },
    {
     "data": {
      "image/png": "[encoded data removed]",
      "text/plain": [
       "<Figure size 432x288 with 1 Axes>"
      ]
     },
     "metadata": {
      "needs_background": "light"
     },
     "output_type": "display_data"
    }
   ],
   "source": [
    "#DATA EXPLORATION\n",
    "#Get mean of average NBA Salary from each year to show that it doesn't make sense to look at absolute salaries\n",
    "sal=final_df.groupby('Year')['Salary'].mean()\n",
    "var=sal.plot.bar(x='Year', y='Salary')\n",
    "var.set_ylabel(\"Average Salary\")\n",
    "var.set_title(\"Average Salary in NBA from 2010 to 2016\")\n",
    "var.plot()"
   ]
  },
  {
   "cell_type": "code",
   "execution_count": null,
   "metadata": {},
   "outputs": [],
   "source": [
    "#to normalize salaries, make them as a percentage of the salary cap in that year\n",
    "# "
   ]
  },
  {
   "cell_type": "code",
   "execution_count": 10,
   "metadata": {},
   "outputs": [
    {
     "data": {
      "text/plain": [
       "Text(0.5,1,'Total Points from NBA players from 2010 to 2016')"
      ]
     },
     "execution_count": 10,
     "metadata": {},
     "output_type": "execute_result"
    },
    {
     "data": {
      "image/png": "[encoded data removed]",
      "text/plain": [
       "<Figure size 432x288 with 1 Axes>"
      ]
     },
     "metadata": {
      "needs_background": "light"
     },
     "output_type": "display_data"
    }
   ],
   "source": [
    "#More data exploration, looking at how an advanced metric, total points in each year\n",
    "pts=final_df.groupby('Year')['PTS'].sum()\n",
    "graph=pts.plot.bar()\n",
    "graph.set_ylabel('Total Points')\n",
    "graph.set_title('Total Points from NBA players from 2010 to 2016')\n",
    "# graph.set_ylim(45,100)"
   ]
  },
  {
   "cell_type": "code",
   "execution_count": 11,
   "metadata": {},
   "outputs": [
    {
     "data": {
      "text/plain": [
       "<matplotlib.axes._subplots.AxesSubplot at 0x2719f598710>"
      ]
     },
     "execution_count": 11,
     "metadata": {},
     "output_type": "execute_result"
    },
    {
     "data": {
      "image/png": "[encoded data removed]",
      "text/plain": [
       "<Figure size 864x720 with 2 Axes>"
      ]
     },
     "metadata": {
      "needs_background": "light"
     },
     "output_type": "display_data"
    }
   ],
   "source": [
    "#remove salary in heatmap, store in separate variable\n",
    "salary=final_df['Salary']\n",
    "stats=final_df.drop('Salary', axis=1)\n",
    "\n",
    "\n",
    "#setting up heatmap for correlations between all statistics\n",
    "import seaborn as sns\n",
    "import matplotlib.pyplot as plt\n",
    "fig, ax = plt.subplots(figsize=(12,10))\n",
    "corr = stats.corr()\n",
    "sns.heatmap(corr, \n",
    "            xticklabels=corr.columns.values,\n",
    "            yticklabels=corr.columns.values, ax=ax)"
   ]
  },
  {
   "cell_type": "code",
   "execution_count": null,
   "metadata": {},
   "outputs": [],
   "source": []
  }
 ],
 "metadata": {
  "kernelspec": {
   "display_name": "Python 3",
   "language": "python",
   "name": "python3"
  },
  "language_info": {
   "codemirror_mode": {
    "name": "ipython",
    "version": 3
   },
   "file_extension": ".py",
   "mimetype": "text/x-python",
   "name": "python",
   "nbconvert_exporter": "python",
   "pygments_lexer": "ipython3",
   "version": "3.6.6"
  }
 },
 "nbformat": 4,
 "nbformat_minor": 2
}
