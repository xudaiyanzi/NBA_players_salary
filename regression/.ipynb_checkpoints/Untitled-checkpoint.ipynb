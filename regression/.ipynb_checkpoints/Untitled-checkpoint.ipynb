{
 "cells": [
  {
   "cell_type": "code",
   "execution_count": 1,
   "metadata": {},
   "outputs": [],
   "source": [
    "# import Pandas\n",
    "import pandas as pd\n",
    "\n",
    "# import os\n",
    "import os\n",
    "\n",
    "# import numpy\n",
    "import numpy as np\n",
    "\n",
    "# import pyplot\n",
    "import matplotlib.pyplot as plt"
   ]
  },
  {
   "cell_type": "code",
   "execution_count": null,
   "metadata": {},
   "outputs": [],
   "source": [
    "#DATA EXPLORATION\n",
    "#Get mean of average NBA Salary from each year to show that it doesn't make sense to look at absolute salaries\n",
    "sal=stats.groupby('Season')['Salary'].mean()\n",
    "var=sal.plot.bar(x='Season', y='Salary')\n",
    "var.set_ylabel(\"Average Salary\")\n",
    "var.set_title(\"Average Salary in NBA from 1995 to 2017\")\n",
    "var.plot()"
   ]
  }
 ],
 "metadata": {
  "kernelspec": {
   "display_name": "Python 3",
   "language": "python",
   "name": "python3"
  },
  "language_info": {
   "codemirror_mode": {
    "name": "ipython",
    "version": 3
   },
   "file_extension": ".py",
   "mimetype": "text/x-python",
   "name": "python",
   "nbconvert_exporter": "python",
   "pygments_lexer": "ipython3",
   "version": "3.6.6"
  }
 },
 "nbformat": 4,
 "nbformat_minor": 2
}
