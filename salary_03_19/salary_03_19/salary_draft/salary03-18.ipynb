{
 "cells": [
  {
   "cell_type": "code",
   "execution_count": 1,
   "metadata": {},
   "outputs": [],
   "source": [
    "# Import Dependencies\n",
    "import pandas as pd"
   ]
  },
  {
   "cell_type": "code",
   "execution_count": 2,
   "metadata": {},
   "outputs": [
    {
     "data": {
      "text/html": [
       "<div>\n",
       "<style scoped>\n",
       "    .dataframe tbody tr th:only-of-type {\n",
       "        vertical-align: middle;\n",
       "    }\n",
       "\n",
       "    .dataframe tbody tr th {\n",
       "        vertical-align: top;\n",
       "    }\n",
       "\n",
       "    .dataframe thead th {\n",
       "        text-align: right;\n",
       "    }\n",
       "</style>\n",
       "<table border=\"1\" class=\"dataframe\">\n",
       "  <thead>\n",
       "    <tr style=\"text-align: right;\">\n",
       "      <th></th>\n",
       "      <th>team</th>\n",
       "      <th>salary</th>\n",
       "      <th>player</th>\n",
       "      <th>position</th>\n",
       "      <th>season</th>\n",
       "    </tr>\n",
       "  </thead>\n",
       "  <tbody>\n",
       "    <tr>\n",
       "      <th>0</th>\n",
       "      <td>Minnesota Timberwolves</td>\n",
       "      <td>25200000.0</td>\n",
       "      <td>Kevin Garnett</td>\n",
       "      <td>PF</td>\n",
       "      <td>2002-2003</td>\n",
       "    </tr>\n",
       "    <tr>\n",
       "      <th>1</th>\n",
       "      <td>Portland Trail Blazers</td>\n",
       "      <td>13500000.0</td>\n",
       "      <td>Damon Stoudamire</td>\n",
       "      <td>PG</td>\n",
       "      <td>2002-2003</td>\n",
       "    </tr>\n",
       "    <tr>\n",
       "      <th>2</th>\n",
       "      <td>Seattle SuperSonics</td>\n",
       "      <td>13080000.0</td>\n",
       "      <td>Gary Payton</td>\n",
       "      <td>PG</td>\n",
       "      <td>2002-2003</td>\n",
       "    </tr>\n",
       "    <tr>\n",
       "      <th>3</th>\n",
       "      <td>Seattle SuperSonics</td>\n",
       "      <td>12375000.0</td>\n",
       "      <td>Ray Allen</td>\n",
       "      <td>SG</td>\n",
       "      <td>2002-2003</td>\n",
       "    </tr>\n",
       "    <tr>\n",
       "      <th>4</th>\n",
       "      <td>New York Knicks</td>\n",
       "      <td>12375000.0</td>\n",
       "      <td>Latrell Sprewell</td>\n",
       "      <td>SG</td>\n",
       "      <td>2002-2003</td>\n",
       "    </tr>\n",
       "  </tbody>\n",
       "</table>\n",
       "</div>"
      ],
      "text/plain": [
       "                     team      salary            player position     season\n",
       "0  Minnesota Timberwolves  25200000.0     Kevin Garnett       PF  2002-2003\n",
       "1  Portland Trail Blazers  13500000.0  Damon Stoudamire       PG  2002-2003\n",
       "2     Seattle SuperSonics  13080000.0       Gary Payton       PG  2002-2003\n",
       "3     Seattle SuperSonics  12375000.0         Ray Allen       SG  2002-2003\n",
       "4         New York Knicks  12375000.0  Latrell Sprewell       SG  2002-2003"
      ]
     },
     "execution_count": 2,
     "metadata": {},
     "output_type": "execute_result"
    }
   ],
   "source": [
    "# Reference the file where the CSV is located\n",
    "salary03_18 = \"NBASalary03-17.csv\"\n",
    "\n",
    "# Import the data into a Pandas DataFrame\n",
    "salary03_18_df = pd.read_csv(salary03_18)\n",
    "salary03_18_df.head()"
   ]
  },
  {
   "cell_type": "code",
   "execution_count": 3,
   "metadata": {},
   "outputs": [],
   "source": [
    "salary03_18 = salary03_18_df[[\"season\",\"player\",\"salary\",\"position\",\"team\"]]"
   ]
  },
  {
   "cell_type": "code",
   "execution_count": 4,
   "metadata": {},
   "outputs": [
    {
     "data": {
      "text/html": [
       "<div>\n",
       "<style scoped>\n",
       "    .dataframe tbody tr th:only-of-type {\n",
       "        vertical-align: middle;\n",
       "    }\n",
       "\n",
       "    .dataframe tbody tr th {\n",
       "        vertical-align: top;\n",
       "    }\n",
       "\n",
       "    .dataframe thead th {\n",
       "        text-align: right;\n",
       "    }\n",
       "</style>\n",
       "<table border=\"1\" class=\"dataframe\">\n",
       "  <thead>\n",
       "    <tr style=\"text-align: right;\">\n",
       "      <th></th>\n",
       "      <th>season</th>\n",
       "      <th>player</th>\n",
       "      <th>salary</th>\n",
       "      <th>position</th>\n",
       "      <th>team</th>\n",
       "    </tr>\n",
       "  </thead>\n",
       "  <tbody>\n",
       "    <tr>\n",
       "      <th>0</th>\n",
       "      <td>2002-2003</td>\n",
       "      <td>Kevin Garnett</td>\n",
       "      <td>25200000.0</td>\n",
       "      <td>PF</td>\n",
       "      <td>Minnesota Timberwolves</td>\n",
       "    </tr>\n",
       "    <tr>\n",
       "      <th>1</th>\n",
       "      <td>2002-2003</td>\n",
       "      <td>Damon Stoudamire</td>\n",
       "      <td>13500000.0</td>\n",
       "      <td>PG</td>\n",
       "      <td>Portland Trail Blazers</td>\n",
       "    </tr>\n",
       "    <tr>\n",
       "      <th>2</th>\n",
       "      <td>2002-2003</td>\n",
       "      <td>Gary Payton</td>\n",
       "      <td>13080000.0</td>\n",
       "      <td>PG</td>\n",
       "      <td>Seattle SuperSonics</td>\n",
       "    </tr>\n",
       "    <tr>\n",
       "      <th>3</th>\n",
       "      <td>2002-2003</td>\n",
       "      <td>Ray Allen</td>\n",
       "      <td>12375000.0</td>\n",
       "      <td>SG</td>\n",
       "      <td>Seattle SuperSonics</td>\n",
       "    </tr>\n",
       "    <tr>\n",
       "      <th>4</th>\n",
       "      <td>2002-2003</td>\n",
       "      <td>Latrell Sprewell</td>\n",
       "      <td>12375000.0</td>\n",
       "      <td>SG</td>\n",
       "      <td>New York Knicks</td>\n",
       "    </tr>\n",
       "  </tbody>\n",
       "</table>\n",
       "</div>"
      ],
      "text/plain": [
       "      season            player      salary position                    team\n",
       "0  2002-2003     Kevin Garnett  25200000.0       PF  Minnesota Timberwolves\n",
       "1  2002-2003  Damon Stoudamire  13500000.0       PG  Portland Trail Blazers\n",
       "2  2002-2003       Gary Payton  13080000.0       PG     Seattle SuperSonics\n",
       "3  2002-2003         Ray Allen  12375000.0       SG     Seattle SuperSonics\n",
       "4  2002-2003  Latrell Sprewell  12375000.0       SG         New York Knicks"
      ]
     },
     "execution_count": 4,
     "metadata": {},
     "output_type": "execute_result"
    }
   ],
   "source": [
    "salary03_18.head()"
   ]
  },
  {
   "cell_type": "code",
   "execution_count": 5,
   "metadata": {},
   "outputs": [],
   "source": [
    "salary03_18[\"salary\"] = salary03_18[\"salary\"].astype(int)"
   ]
  },
  {
   "cell_type": "code",
   "execution_count": 6,
   "metadata": {},
   "outputs": [
    {
     "data": {
      "text/html": [
       "<div>\n",
       "<style scoped>\n",
       "    .dataframe tbody tr th:only-of-type {\n",
       "        vertical-align: middle;\n",
       "    }\n",
       "\n",
       "    .dataframe tbody tr th {\n",
       "        vertical-align: top;\n",
       "    }\n",
       "\n",
       "    .dataframe thead th {\n",
       "        text-align: right;\n",
       "    }\n",
       "</style>\n",
       "<table border=\"1\" class=\"dataframe\">\n",
       "  <thead>\n",
       "    <tr style=\"text-align: right;\">\n",
       "      <th></th>\n",
       "      <th>season</th>\n",
       "      <th>player</th>\n",
       "      <th>salary</th>\n",
       "      <th>position</th>\n",
       "      <th>team</th>\n",
       "    </tr>\n",
       "  </thead>\n",
       "  <tbody>\n",
       "    <tr>\n",
       "      <th>0</th>\n",
       "      <td>2002-2003</td>\n",
       "      <td>Kevin Garnett</td>\n",
       "      <td>25200000</td>\n",
       "      <td>PF</td>\n",
       "      <td>Minnesota Timberwolves</td>\n",
       "    </tr>\n",
       "    <tr>\n",
       "      <th>1</th>\n",
       "      <td>2002-2003</td>\n",
       "      <td>Damon Stoudamire</td>\n",
       "      <td>13500000</td>\n",
       "      <td>PG</td>\n",
       "      <td>Portland Trail Blazers</td>\n",
       "    </tr>\n",
       "    <tr>\n",
       "      <th>2</th>\n",
       "      <td>2002-2003</td>\n",
       "      <td>Gary Payton</td>\n",
       "      <td>13080000</td>\n",
       "      <td>PG</td>\n",
       "      <td>Seattle SuperSonics</td>\n",
       "    </tr>\n",
       "    <tr>\n",
       "      <th>3</th>\n",
       "      <td>2002-2003</td>\n",
       "      <td>Ray Allen</td>\n",
       "      <td>12375000</td>\n",
       "      <td>SG</td>\n",
       "      <td>Seattle SuperSonics</td>\n",
       "    </tr>\n",
       "    <tr>\n",
       "      <th>4</th>\n",
       "      <td>2002-2003</td>\n",
       "      <td>Latrell Sprewell</td>\n",
       "      <td>12375000</td>\n",
       "      <td>SG</td>\n",
       "      <td>New York Knicks</td>\n",
       "    </tr>\n",
       "  </tbody>\n",
       "</table>\n",
       "</div>"
      ],
      "text/plain": [
       "      season            player    salary position                    team\n",
       "0  2002-2003     Kevin Garnett  25200000       PF  Minnesota Timberwolves\n",
       "1  2002-2003  Damon Stoudamire  13500000       PG  Portland Trail Blazers\n",
       "2  2002-2003       Gary Payton  13080000       PG     Seattle SuperSonics\n",
       "3  2002-2003         Ray Allen  12375000       SG     Seattle SuperSonics\n",
       "4  2002-2003  Latrell Sprewell  12375000       SG         New York Knicks"
      ]
     },
     "execution_count": 6,
     "metadata": {},
     "output_type": "execute_result"
    }
   ],
   "source": [
    "salary03_18.head()"
   ]
  },
  {
   "cell_type": "code",
   "execution_count": 9,
   "metadata": {},
   "outputs": [],
   "source": [
    "salary_03_18_final = salary03_18[[\"season\",\"player\",\"salary\"]]"
   ]
  },
  {
   "cell_type": "code",
   "execution_count": 11,
   "metadata": {},
   "outputs": [
    {
     "data": {
      "text/html": [
       "<div>\n",
       "<style scoped>\n",
       "    .dataframe tbody tr th:only-of-type {\n",
       "        vertical-align: middle;\n",
       "    }\n",
       "\n",
       "    .dataframe tbody tr th {\n",
       "        vertical-align: top;\n",
       "    }\n",
       "\n",
       "    .dataframe thead th {\n",
       "        text-align: right;\n",
       "    }\n",
       "</style>\n",
       "<table border=\"1\" class=\"dataframe\">\n",
       "  <thead>\n",
       "    <tr style=\"text-align: right;\">\n",
       "      <th></th>\n",
       "      <th>season</th>\n",
       "      <th>player</th>\n",
       "      <th>salary</th>\n",
       "    </tr>\n",
       "  </thead>\n",
       "  <tbody>\n",
       "    <tr>\n",
       "      <th>0</th>\n",
       "      <td>2002-2003</td>\n",
       "      <td>Kevin Garnett</td>\n",
       "      <td>25200000</td>\n",
       "    </tr>\n",
       "    <tr>\n",
       "      <th>1</th>\n",
       "      <td>2002-2003</td>\n",
       "      <td>Damon Stoudamire</td>\n",
       "      <td>13500000</td>\n",
       "    </tr>\n",
       "    <tr>\n",
       "      <th>2</th>\n",
       "      <td>2002-2003</td>\n",
       "      <td>Gary Payton</td>\n",
       "      <td>13080000</td>\n",
       "    </tr>\n",
       "    <tr>\n",
       "      <th>3</th>\n",
       "      <td>2002-2003</td>\n",
       "      <td>Ray Allen</td>\n",
       "      <td>12375000</td>\n",
       "    </tr>\n",
       "    <tr>\n",
       "      <th>4</th>\n",
       "      <td>2002-2003</td>\n",
       "      <td>Latrell Sprewell</td>\n",
       "      <td>12375000</td>\n",
       "    </tr>\n",
       "  </tbody>\n",
       "</table>\n",
       "</div>"
      ],
      "text/plain": [
       "      season            player    salary\n",
       "0  2002-2003     Kevin Garnett  25200000\n",
       "1  2002-2003  Damon Stoudamire  13500000\n",
       "2  2002-2003       Gary Payton  13080000\n",
       "3  2002-2003         Ray Allen  12375000\n",
       "4  2002-2003  Latrell Sprewell  12375000"
      ]
     },
     "execution_count": 11,
     "metadata": {},
     "output_type": "execute_result"
    }
   ],
   "source": [
    "salary_03_18_final.head()"
   ]
  },
  {
   "cell_type": "code",
   "execution_count": 12,
   "metadata": {},
   "outputs": [],
   "source": [
    "salary_03_18_final.to_csv(\"salary_03_18_final.csv\",index=False)"
   ]
  },
  {
   "cell_type": "code",
   "execution_count": null,
   "metadata": {},
   "outputs": [],
   "source": []
  }
 ],
 "metadata": {
  "kernelspec": {
   "display_name": "Python 3",
   "language": "python",
   "name": "python3"
  },
  "language_info": {
   "codemirror_mode": {
    "name": "ipython",
    "version": 3
   },
   "file_extension": ".py",
   "mimetype": "text/x-python",
   "name": "python",
   "nbconvert_exporter": "python",
   "pygments_lexer": "ipython3",
   "version": "3.7.2"
  }
 },
 "nbformat": 4,
 "nbformat_minor": 2
}
